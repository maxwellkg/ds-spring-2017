{
 "cells": [
  {
   "cell_type": "code",
   "execution_count": 12,
   "metadata": {
    "collapsed": false
   },
   "outputs": [],
   "source": [
    "from sklearn.base import BaseEstimator, TransformerMixin\n",
    "from sklearn.pipeline import Pipeline,FeatureUnion\n",
    "from sklearn.feature_extraction.text import CountVectorizer\n",
    "from sklearn.feature_extraction.text import TfidfVectorizer\n",
    "from sklearn import metrics\n",
    "from sklearn.model_selection import train_test_split, GridSearchCV\n",
    "from sklearn.feature_selection import SelectKBest, f_classif\n",
    "import numpy as np\n",
    "import pandas as pd\n",
    "from pprint import pprint\n",
    "from sklearn import preprocessing\n",
    "\n",
    "from sklearn.ensemble import RandomForestClassifier\n",
    "from mord import LogisticAT\n",
    "from sklearn.linear_model import LogisticRegression\n",
    "from sklearn.naive_bayes import BernoulliNB\n",
    "\n",
    "from scipy.sparse import coo_matrix, hstack\n",
    "from sklearn.model_selection import cross_val_score\n",
    "from sklearn.metrics import mean_absolute_error"
   ]
  },
  {
   "cell_type": "code",
   "execution_count": 29,
   "metadata": {
    "collapsed": false
   },
   "outputs": [],
   "source": [
    "data = pd.read_pickle('data_clean_text.p')"
   ]
  },
  {
   "cell_type": "code",
   "execution_count": 30,
   "metadata": {
    "collapsed": false
   },
   "outputs": [],
   "source": [
    "#remove features which agents cannot change, separate target from features\n",
    "X = data.drop(['bathrooms', 'latitude', 'longitude', 'building_id', 'created', 'street_address', 'description', 'display_address', 'features', 'listing_id', 'manager_id', 'photos', 'interest_level', 'neighborhood'],axis=1)\n",
    "Y = data['interest_level'].copy()\n",
    "\n",
    "#replace strings with numeric for use in models (though still assumed to be ordinal later)\n",
    "Y = Y.replace(['low', 'medium', 'high'], [1,2,3])\n",
    "\n",
    "#normalize feature values\n",
    "for column in X.columns.values:\n",
    "    if column == 'cleantext':\n",
    "        next\n",
    "    else:\n",
    "        if np.max(X[column])==0:\n",
    "            next\n",
    "        else:\n",
    "            X[column] = X[column]/np.max(X[column])\n",
    "\n",
    "#split data into training and test sets\n",
    "X_train,X_test,Y_train,Y_test = train_test_split(X,Y,train_size=0.8)\n"
   ]
  },
  {
   "cell_type": "code",
   "execution_count": 36,
   "metadata": {
    "collapsed": false
   },
   "outputs": [],
   "source": [
    "class ItemSelector(BaseEstimator, TransformerMixin):\n",
    "    \"\"\"Switch for selecting text or non text features\"\"\"\n",
    "    def __init__(self, key):\n",
    "        self.key = key\n",
    "\n",
    "    def fit(self, x, y=None):\n",
    "        return self\n",
    "\n",
    "    def transform(self, data):\n",
    "        if self.key=='text':\n",
    "            return data['cleantext']\n",
    "        else:\n",
    "            return data.drop('cleantext',axis=1)\n",
    "\n",
    "\n",
    "class VectorChooser(BaseEstimator, TransformerMixin):\n",
    "    \"\"\"Switch for choosing between vectorizers\"\"\"\n",
    "    def __init__(self, vtype='tfidf',binary=False,ngram_range=(1,1)):\n",
    "        self.vtype = vtype\n",
    "        self.tfidf = TfidfVectorizer(binary,ngram_range,stop_words='english')\n",
    "        self.count_vector = CountVectorizer(binary,ngram_range,stop_words='english')\n",
    "\n",
    "    def fit(self, x, y=None):\n",
    "        if self.vtype=='tfidf':\n",
    "            return self.tfidf.fit(x)\n",
    "        else:\n",
    "            return self.count_vector.fit(x)\n",
    "\n",
    "    def transform(self, data):\n",
    "        if self.vtype=='tfidf':\n",
    "            return self.tfidf.transform(data)\n",
    "        else:\n",
    "            return self.count_vector.transform(data)"
   ]
  },
  {
   "cell_type": "code",
   "execution_count": 16,
   "metadata": {
    "collapsed": true
   },
   "outputs": [],
   "source": [
    "#prevent warning dialogues from displaying\n",
    "import warnings\n",
    "warnings.filterwarnings(\"ignore\")"
   ]
  },
  {
   "cell_type": "code",
   "execution_count": 19,
   "metadata": {
    "collapsed": false
   },
   "outputs": [
    {
     "name": "stdout",
     "output_type": "stream",
     "text": [
      "Performing grid search...\n",
      "pipeline: ['union', 'logistic']\n",
      "parameters:\n",
      "{'logistic__C': array([  1.00000000e-03,   1.00000000e-02,   1.00000000e-01,\n",
      "         1.00000000e+00,   1.00000000e+01,   1.00000000e+02]),\n",
      " 'logistic__solver': ['lbfgs'],\n",
      " 'union__text__vectorizer__binary': (True, False),\n",
      " 'union__text__vectorizer__ngram_range': ((1, 1), (1, 2), (2, 2))}\n",
      "Fitting 3 folds for each of 36 candidates, totalling 108 fits\n"
     ]
    },
    {
     "name": "stderr",
     "output_type": "stream",
     "text": [
      "[Parallel(n_jobs=1)]: Done 108 out of 108 | elapsed: 15.5min finished\n"
     ]
    },
    {
     "name": "stdout",
     "output_type": "stream",
     "text": [
      "Best score: -0.357\n",
      "Best parameters set:\n",
      "\tlogistic__C: 10.0\n",
      "\tlogistic__solver: 'lbfgs'\n",
      "\tunion__text__vectorizer__binary: True\n",
      "\tunion__text__vectorizer__ngram_range: (1, 1)\n"
     ]
    }
   ],
   "source": [
    "# Logistic Regression\n",
    "pipeline = Pipeline([\n",
    "    # Use FeatureUnion to combine the features from subject and body\n",
    "    ('union', FeatureUnion(\n",
    "        transformer_list=[\n",
    "\n",
    "            # Pipeline for pulling features from the text field\n",
    "            ('text', Pipeline([\n",
    "                ('selector', ItemSelector(key='text')),\n",
    "                ('vectorizer', VectorChooser(binary = True)),\n",
    "            ])),\n",
    "\n",
    "            # Pipeline for K best selection of non-text features\n",
    "            ('alt_features', Pipeline([\n",
    "                ('selector', ItemSelector(key='features')),\n",
    "                ('kbest', SelectKBest())\n",
    "            ]))\n",
    "\n",
    "        ]\n",
    "    )),\n",
    "\n",
    "    ('logistic', LogisticRegression())\n",
    "])\n",
    "#paramters to search on, \n",
    "#key is nested:\n",
    "###'union' vs 'modelname'  then __\n",
    "###then feature type 'text' vs 'alt_features'\n",
    "###then modelname to adjust paramters\n",
    "###then parameter for which you are adjusting values\n",
    "#value is the values for the parameter through which to cycle gridsearch\n",
    "parameters = {\n",
    "    'logistic__solver': ['lbfgs'],\n",
    "    'union__text__vectorizer__ngram_range': ((1,1),(1,2),(2,2)),\n",
    "    'union__text__vectorizer__binary': (True, False),\n",
    "    'logistic__C': np.power(10.0, np.arange(-3,3))\n",
    "}\n",
    "\n",
    "#Grid search across one model\n",
    "grid_search = GridSearchCV(pipeline, parameters, verbose=1,scoring = 'mean_absolute_error')\n",
    "\n",
    "print(\"Performing grid search...\")\n",
    "print(\"pipeline:\", [name for name, _ in pipeline.steps])\n",
    "print(\"parameters:\")\n",
    "pprint(parameters)\n",
    "grid_search.fit(X_train, Y_train)\n",
    "\n",
    "print(\"Best score: %0.3f\" % grid_search.best_score_)\n",
    "print(\"Best parameters set:\")\n",
    "best_parameters = grid_search.best_estimator_.get_params()\n",
    "for param_name in sorted(parameters.keys()):\n",
    "    print(\"\\t%s: %r\" % (param_name, best_parameters[param_name]))"
   ]
  },
  {
   "cell_type": "code",
   "execution_count": 152,
   "metadata": {
    "collapsed": false
   },
   "outputs": [
    {
     "name": "stdout",
     "output_type": "stream",
     "text": [
      "Performing grid search...\n",
      "pipeline: ['union', 'randomforest']\n",
      "parameters:\n",
      "{'randomforest__min_samples_leaf': (10, 100, 1000),\n",
      " 'randomforest__min_samples_split': (1, 10, 100),\n",
      " 'union__text__vectorizer__binary': (True, False),\n",
      " 'union__text__vectorizer__ngram_range': ((1, 1), (1, 2))}\n",
      "Fitting 3 folds for each of 36 candidates, totalling 108 fits\n"
     ]
    },
    {
     "name": "stderr",
     "output_type": "stream",
     "text": [
      "[Parallel(n_jobs=-1)]: Done  42 tasks      | elapsed:  2.0min\n",
      "[Parallel(n_jobs=-1)]: Done 108 out of 108 | elapsed:  4.6min finished\n"
     ]
    },
    {
     "name": "stdout",
     "output_type": "stream",
     "text": [
      "Best score: -0.379\n",
      "Best parameters set:\n",
      "\trandomforest__min_samples_leaf: 10\n",
      "\trandomforest__min_samples_split: 1\n",
      "\tunion__text__vectorizer__binary: True\n",
      "\tunion__text__vectorizer__ngram_range: (1, 2)\n"
     ]
    }
   ],
   "source": [
    "# Random Forest\n",
    "pipeline = Pipeline([\n",
    "    # Use FeatureUnion to combine the features from subject and body\n",
    "    ('union', FeatureUnion(\n",
    "        transformer_list=[\n",
    "\n",
    "            # Pipeline for pulling features from the text field\n",
    "            ('text', Pipeline([\n",
    "                ('selector', ItemSelector(key='text')),\n",
    "                ('vectorizer', VectorChooser()),\n",
    "            ])),\n",
    "\n",
    "            # Pipeline for K best selection of non-text features\n",
    "            ('alt_features', Pipeline([\n",
    "                ('selector', ItemSelector(key='features')),\n",
    "                ('kbest', SelectKBest())\n",
    "            ]))\n",
    "\n",
    "        ]\n",
    "    )),\n",
    "\n",
    "    ('randomforest', RandomForestClassifier())\n",
    "])\n",
    "#paramters to search on, \n",
    "#key is nested:\n",
    "###'union' vs 'modelname'  then __\n",
    "###then feature type 'text' vs 'alt_features'\n",
    "###then modelname to adjust paramters\n",
    "###then parameter for which you are adjusting values\n",
    "#value is the values for the parameter through which to cycle gridsearch\n",
    "parameters = {\n",
    "    'union__text__vectorizer__ngram_range': ((1,1),(1, 2)),\n",
    "    'union__text__vectorizer__binary': (True, False),\n",
    "    'randomforest__min_samples_split': (1,10,100),\n",
    "    'randomforest__min_samples_leaf': (10,100,1000),\n",
    "}\n",
    "\n",
    "#Grid search across one model\n",
    "grid_search = GridSearchCV(pipeline, parameters, n_jobs=-1, verbose=1, scoring = 'mean_absolute_error')\n",
    "\n",
    "print(\"Performing grid search...\")\n",
    "print(\"pipeline:\", [name for name, _ in pipeline.steps])\n",
    "print(\"parameters:\")\n",
    "pprint(parameters)\n",
    "grid_search.fit(X_train, Y_train)\n",
    "\n",
    "print(\"Best score: %0.3f\" % grid_search.best_score_)\n",
    "print(\"Best parameters set:\")\n",
    "best_parameters = grid_search.best_estimator_.get_params()\n",
    "for param_name in sorted(parameters.keys()):\n",
    "    print(\"\\t%s: %r\" % (param_name, best_parameters[param_name]))"
   ]
  },
  {
   "cell_type": "code",
   "execution_count": 150,
   "metadata": {
    "collapsed": false,
    "scrolled": true
   },
   "outputs": [
    {
     "name": "stdout",
     "output_type": "stream",
     "text": [
      "Performing grid search...\n",
      "pipeline: ['union', 'nb']\n",
      "parameters:\n",
      "{'nb__alpha': array([  0.01,   0.1 ,   1.  ,  10.  ]),\n",
      " 'union__text__vectorizer__binary': (True, False),\n",
      " 'union__text__vectorizer__ngram_range': ((1, 1), (1, 2))}\n",
      "Fitting 3 folds for each of 16 candidates, totalling 48 fits\n"
     ]
    },
    {
     "name": "stderr",
     "output_type": "stream",
     "text": [
      "[Parallel(n_jobs=-1)]: Done  48 out of  48 | elapsed:  2.2min finished\n"
     ]
    },
    {
     "name": "stdout",
     "output_type": "stream",
     "text": [
      "Best score: -0.387\n",
      "Best parameters set:\n",
      "\tnb__alpha: 10.0\n",
      "\tunion__text__vectorizer__binary: True\n",
      "\tunion__text__vectorizer__ngram_range: (1, 1)\n"
     ]
    }
   ],
   "source": [
    "#Naive Bayes\n",
    "pipeline = Pipeline([\n",
    "    # Use FeatureUnion to combine the features from subject and body\n",
    "    ('union', FeatureUnion(\n",
    "        transformer_list=[\n",
    "\n",
    "            # Pipeline for pulling features from the text field\n",
    "            ('text', Pipeline([\n",
    "                ('selector', ItemSelector(key='text')),\n",
    "                ('vectorizer', VectorChooser()),\n",
    "            ])),\n",
    "\n",
    "            # Pipeline for K best selection of non-text features\n",
    "            ('alt_features', Pipeline([\n",
    "                ('selector', ItemSelector(key='features')),\n",
    "                ('kbest', SelectKBest())\n",
    "            ]))\n",
    "\n",
    "        ]\n",
    "    )),\n",
    "\n",
    "    ('nb', BernoulliNB())\n",
    "])\n",
    "#paramters to search on, \n",
    "#key is nested:\n",
    "###'union' vs 'modelname'  then __\n",
    "###then feature type 'text' vs 'alt_features'\n",
    "###then modelname to adjust paramters\n",
    "###then parameter for which you are adjusting values\n",
    "#value is the values for the parameter through which to cycle gridsearch\n",
    "parameters = {\n",
    "    'union__text__vectorizer__ngram_range': ((1,1),(1, 2)),\n",
    "    'union__text__vectorizer__binary': (True, False),\n",
    "    'nb__alpha': np.power(10.0, np.arange(-2,2)),\n",
    "}\n",
    "\n",
    "#Grid search across one model\n",
    "grid_search = GridSearchCV(pipeline, parameters, n_jobs=-1, verbose=1, scoring = 'mean_absolute_error')\n",
    "\n",
    "print(\"Performing grid search...\")\n",
    "print(\"pipeline:\", [name for name, _ in pipeline.steps])\n",
    "print(\"parameters:\")\n",
    "pprint(parameters)\n",
    "grid_search.fit(X_train, Y_train)\n",
    "\n",
    "print(\"Best score: %0.3f\" % grid_search.best_score_)\n",
    "print(\"Best parameters set:\")\n",
    "best_parameters = grid_search.best_estimator_.get_params()\n",
    "for param_name in sorted(parameters.keys()):\n",
    "    print(\"\\t%s: %r\" % (param_name, best_parameters[param_name]))"
   ]
  },
  {
   "cell_type": "code",
   "execution_count": null,
   "metadata": {
    "collapsed": false,
    "scrolled": false
   },
   "outputs": [
    {
     "name": "stdout",
     "output_type": "stream",
     "text": [
      "Performing grid search...\n",
      "pipeline: ['union', 'logisticat']\n",
      "parameters:\n",
      "{'union__text__vectorizer__ngram_range': ((1, 1), (2, 2)), 'union__alt_features__kbest__k': (10, 15, 20), 'logisticat__alpha': (0.001, 0.01, 0.1, 1, 10, 100), 'union__text__vectorizer__binary': (True, False)}\n",
      "Fitting 3 folds for each of 72 candidates, totalling 216 fits\n"
     ]
    }
   ],
   "source": [
    "#Logistic AT\n",
    "pipeline = Pipeline([\n",
    "    # Use FeatureUnion to combine the features from subject and body\n",
    "    ('union', FeatureUnion(\n",
    "        transformer_list=[\n",
    "\n",
    "            # Pipeline for pulling features from the text field\n",
    "            ('text', Pipeline([\n",
    "                ('selector', ItemSelector(key='text')),\n",
    "                ('vectorizer', VectorChooser()),\n",
    "            ])),\n",
    "\n",
    "            # Pipeline for K best selection of non-text features\n",
    "            ('alt_features', Pipeline([\n",
    "                ('selector', ItemSelector(key='features')),\n",
    "                ('kbest', SelectKBest())\n",
    "            ]))\n",
    "\n",
    "        ]\n",
    "    )),\n",
    "\n",
    "    ('logisticat', LogisticAT(max_iter=250))\n",
    "])\n",
    "#paramters to search on, \n",
    "#key is nested:\n",
    "###'union' vs 'modelname'  then __\n",
    "###then feature type 'text' vs 'alt_features'\n",
    "###then modelname to adjust paramters\n",
    "###then parameter for which you are adjusting values\n",
    "#value is the values for the parameter through which to cycle gridsearch\n",
    "parameters = {\n",
    "    'union__text__vectorizer__ngram_range': ((1,1),(2,2)),\n",
    "    'union__text__vectorizer__binary': (True, False),\n",
    "    'union__alt_features__kbest__k': (10, 15, 20),\n",
    "    'logisticat__alpha': (.001,.01,.1,1,10,100)\n",
    "}\n",
    "\n",
    "#Grid search across one model\n",
    "grid_search = GridSearchCV(pipeline, parameters, verbose=1, scoring = 'mean_absolute_error')\n",
    "\n",
    "print(\"Performing grid search...\")\n",
    "print(\"pipeline:\", [name for name, _ in pipeline.steps])\n",
    "print(\"parameters:\")\n",
    "print(parameters)\n",
    "grid_search.fit(X_train, Y_train)\n",
    "\n",
    "print(\"Best score: %0.3f\" % grid_search.best_score_)\n",
    "print(\"Best parameters set:\")\n",
    "best_parameters = grid_search.best_estimator_.get_params()\n",
    "for param_name in sorted(parameters.keys()):\n",
    "    print(\"\\t%s: %r\" % (param_name, best_parameters[param_name]))\n"
   ]
  },
  {
   "cell_type": "code",
   "execution_count": 14,
   "metadata": {
    "collapsed": false
   },
   "outputs": [
    {
     "name": "stdout",
     "output_type": "stream",
     "text": [
      "Performing grid search...\n",
      "pipeline: ['union', 'logisticat']\n",
      "parameters:\n",
      "{'union__text__vectorizer__ngram_range': ((1, 1), (1, 2), (2, 2)), 'union__alt_features__kbest__k': (10, 15, 20), 'union__text__vectorizer__vtype': ['count_vectorizer'], 'logisticat__alpha': (0.001, 0.01, 0.1, 1, 10, 100), 'union__text__vectorizer__binary': (True, False)}\n",
      "Fitting 3 folds for each of 108 candidates, totalling 324 fits\n"
     ]
    },
    {
     "name": "stderr",
     "output_type": "stream",
     "text": [
      "[Parallel(n_jobs=1)]: Done 324 out of 324 | elapsed: 51.0min finished\n"
     ]
    },
    {
     "name": "stdout",
     "output_type": "stream",
     "text": [
      "Best score: -0.348\n",
      "Best parameters set:\n",
      "\tlogisticat__alpha: 10\n",
      "\tunion__alt_features__kbest__k: 20\n",
      "\tunion__text__vectorizer__binary: True\n",
      "\tunion__text__vectorizer__ngram_range: (1, 1)\n",
      "\tunion__text__vectorizer__vtype: 'count_vectorizer'\n"
     ]
    }
   ],
   "source": [
    "#Logistic AT\n",
    "pipeline = Pipeline([\n",
    "    # Use FeatureUnion to combine the features from text and non text\n",
    "    ('union', FeatureUnion(\n",
    "        transformer_list=[\n",
    "\n",
    "            # Pipeline for pulling features from the text field\n",
    "            ('text', Pipeline([\n",
    "                ('selector', ItemSelector(key='text')),\n",
    "                ('vectorizer', VectorChooser()),\n",
    "            ])),\n",
    "\n",
    "            # Pipeline for K best selection of non-text features\n",
    "            ('alt_features', Pipeline([\n",
    "                ('selector', ItemSelector(key='features')),\n",
    "                ('kbest', SelectKBest())\n",
    "            ]))\n",
    "\n",
    "        ]\n",
    "    )),\n",
    "\n",
    "    ('logisticat', LogisticAT(max_iter=100))\n",
    "])\n",
    "#paramters to search on, \n",
    "#key is nested:\n",
    "###'union' vs 'modelname'  then __\n",
    "###then feature type 'text' vs 'alt_features'\n",
    "###then modelname to adjust paramters\n",
    "###then parameter for which you are adjusting values\n",
    "#value is the values for the parameter through which to cycle gridsearch\n",
    "parameters = {\n",
    "    'union__text__vectorizer__ngram_range': ((1,1),(1,2),(2,2)),\n",
    "    'union__text__vectorizer__binary': (True, False),\n",
    "    'union__text__vectorizer__vtype': ['count_vectorizer'],\n",
    "    'union__alt_features__kbest__k': (10, 15, 20),\n",
    "    'logisticat__alpha': (.001,.01,.1,1,10,100)\n",
    "}\n",
    "\n",
    "#Grid search across one model\n",
    "grid_search = GridSearchCV(pipeline, parameters, verbose=1, scoring = 'mean_absolute_error')\n",
    "\n",
    "print(\"Performing grid search...\")\n",
    "print(\"pipeline:\", [name for name, _ in pipeline.steps])\n",
    "print(\"parameters:\")\n",
    "print(parameters)\n",
    "grid_search.fit(X_train, Y_train)\n",
    "\n",
    "print(\"Best score: %0.3f\" % grid_search.best_score_)\n",
    "print(\"Best parameters set:\")\n",
    "best_parameters = grid_search.best_estimator_.get_params()\n",
    "for param_name in sorted(parameters.keys()):\n",
    "    print(\"\\t%s: %r\" % (param_name, best_parameters[param_name]))\n"
   ]
  },
  {
   "cell_type": "code",
   "execution_count": 35,
   "metadata": {
    "collapsed": false
   },
   "outputs": [],
   "source": [
    "#create non-text X_train data set\n",
    "selector = SelectKBest(k=20)\n",
    "selector.fit(X_train.drop(['cleantext'],axis=1),Y_train)\n",
    "X_train_nontext = selector.transform(X_train.drop(['cleantext'],axis=1))\n",
    "\n",
    "#create text X_train dataset\n",
    "vectorizer = TfidfVectorizer(binary=True,ngram_range=(1,1))\n",
    "vectorizer.fit(X_train['cleantext'])\n",
    "X_train_text = vectorizer.transform(X_train['cleantext'])"
   ]
  },
  {
   "cell_type": "code",
   "execution_count": 37,
   "metadata": {
    "collapsed": false
   },
   "outputs": [],
   "source": [
    "#combine data into single dataset by converting non-text training data into coo matrix, then appending\n",
    "data_coo = coo_matrix(X_train_nontext,dtype=np.float64)\n",
    "X_train_data = hstack([data_coo,X_train_text])\n",
    "\n",
    "log_AT = LogisticAT(alpha=10,max_iter=100).fit(X_train_data,Y_train)"
   ]
  },
  {
   "cell_type": "code",
   "execution_count": 79,
   "metadata": {
    "collapsed": false
   },
   "outputs": [],
   "source": [
    "#fit best versions of alternative models for later comparison\n",
    "logistic = LogisticRegression(C=10,solver='lbfgs').fit(X_train_data,Y_train)\n",
    "forest = RandomForestClassifier(min_samples_leaf=10,min_samples_split=1.0).fit(X_train_data,Y_train)\n",
    "bayes = BernoulliNB(alpha=10).fit(X_train_data,Y_train)"
   ]
  },
  {
   "cell_type": "code",
   "execution_count": 38,
   "metadata": {
    "collapsed": true
   },
   "outputs": [],
   "source": [
    "#transform test data\n",
    "X_test_nontext = selector.transform(X_test.drop(['cleantext'],axis=1))\n",
    "X_test_text = vectorizer.transform(X_test['cleantext'])\n",
    "\n",
    "#combine data into single dataset\n",
    "test_coo = coo_matrix(X_test_nontext,dtype=np.float64)\n",
    "X_test_data = hstack([test_coo,X_test_text])"
   ]
  },
  {
   "cell_type": "code",
   "execution_count": 39,
   "metadata": {
    "collapsed": true
   },
   "outputs": [],
   "source": [
    "#transform total X data\n",
    "X_nontext = selector.transform(X.drop(['cleantext'],axis=1))\n",
    "X_text = vectorizer.transform(X['cleantext'])\n",
    "\n",
    "#combine data into single dataset\n",
    "coo = coo_matrix(X_nontext,dtype=np.float64)\n",
    "X_data = hstack([coo,X_text])"
   ]
  },
  {
   "cell_type": "code",
   "execution_count": 94,
   "metadata": {
    "collapsed": false
   },
   "outputs": [],
   "source": [
    "# Run this so your plots show properly\n",
    "import matplotlib.pyplot as plt\n",
    "from matplotlib.axes import Axes\n",
    "%matplotlib inline\n",
    "plt.rcParams['figure.figsize'] = 10, 5"
   ]
  },
  {
   "cell_type": "code",
   "execution_count": 84,
   "metadata": {
    "collapsed": false
   },
   "outputs": [],
   "source": [
    "model_list = [logistic,forest,bayes,log_AT]\n",
    "cross_avgs = []\n",
    "cross_stds = []\n",
    "for m in model_list:\n",
    "    scores = cross_val_score(m,X_data,Y,scoring=\"mean_absolute_error\",cv=5)\n",
    "    cross_avgs.append(-1*np.mean(scores))\n",
    "    cross_stds.append(np.std(scores))"
   ]
  },
  {
   "cell_type": "code",
   "execution_count": 125,
   "metadata": {
    "collapsed": false
   },
   "outputs": [
    {
     "data": {
      "image/png": "[encoded data removed]",
      "text/plain": [
       "<matplotlib.figure.Figure at 0x7f4e25fce630>"
      ]
     },
     "metadata": {},
     "output_type": "display_data"
    }
   ],
   "source": [
    "#plot cross validation results for Various Models\n",
    "fig, ax = plt.subplots()\n",
    "\n",
    "x_labels = ['LogReg','RandomForest','NaiveBayes','LogisticAT']\n",
    "\n",
    "ax.bar(1,cross_avgs[0], 0.5, color='r', yerr=cross_stds[0],align='center')\n",
    "ax.bar(2,cross_avgs[1], 0.5, color='b', yerr=cross_stds[1],align='center')\n",
    "ax.bar(3,cross_avgs[2], 0.5, color='g', yerr=cross_stds[2],align='center')\n",
    "ax.bar(4,cross_avgs[3], 0.5, color='m', yerr=cross_stds[3],align='center')\n",
    "\n",
    "plt.xticks([1,2,3,4],x_labels)\n",
    "plt.xlabel(\"Model Type\")\n",
    "plt.ylabel(\"MAE +/- Stderr\")\n",
    "plt.title(\"5 Fold Cross-Validation MAE Values for Various Models\")\n",
    "plt.ylim(0.25,0.4)\n",
    "plt.show()"
   ]
  },
  {
   "cell_type": "code",
   "execution_count": 41,
   "metadata": {
    "collapsed": false
   },
   "outputs": [
    {
     "name": "stdout",
     "output_type": "stream",
     "text": [
      "0.341966280723\n"
     ]
    }
   ],
   "source": [
    "#get MAE for prediction on test set\n",
    "print(mean_absolute_error(Y_test,log_AT.predict(X_test_data)))"
   ]
  },
  {
   "cell_type": "code",
   "execution_count": 42,
   "metadata": {
    "collapsed": false
   },
   "outputs": [],
   "source": [
    "stat_data = X_train.drop('cleantext',axis=1)\n",
    "columns = stat_data.columns.values\n",
    "f_stats, pvals = f_classif(stat_data,Y_train)\n",
    "\n",
    "sorted_array = pd.DataFrame(sorted(zip(f_stats,pvals,columns),reverse=True)).dropna().reset_index(drop=True)"
   ]
  },
  {
   "cell_type": "code",
   "execution_count": 43,
   "metadata": {
    "collapsed": false
   },
   "outputs": [
    {
     "name": "stdout",
     "output_type": "stream",
     "text": [
      "             0              1                      2\n",
      "0   423.757105  8.259795e-183                 No Fee\n",
      "1   206.996133   3.732139e-90            Reduced Fee\n",
      "2   153.270144   4.935746e-67                Doorman\n",
      "3   117.771692   1.011015e-51    Laundry in Building\n",
      "4    71.793929   7.533514e-32           Dogs Allowed\n",
      "5    70.239528   3.545189e-31              Furnished\n",
      "6    56.897538   2.115172e-25           Cats Allowed\n",
      "7    54.022341   3.719810e-24         Fitness Center\n",
      "8    50.475429   1.278936e-22  Private Outdoor Space\n",
      "9    41.616429   8.816319e-19     Short Term Allowed\n",
      "10   30.608431   5.214932e-14        Laundry In Unit\n",
      "11   28.815096   3.125436e-13               bedrooms\n",
      "12   25.895693   5.768092e-12               Elevator\n",
      "13   24.824043   1.682074e-11              Exclusive\n",
      "14   19.489508   3.467373e-09   Common Outdoor Space\n",
      "15   27.768429   8.888331e-13            photo_count\n",
      "16   20.657412   1.079699e-09                   week\n",
      "17   18.825879   6.728689e-09          Parking Space\n",
      "18   10.076968   4.214518e-05                  price\n",
      "19    8.293149   2.506626e-04             price_diff\n"
     ]
    }
   ],
   "source": [
    "print(sorted_array)"
   ]
  }
 ],
 "metadata": {
  "kernelspec": {
   "display_name": "Python 3",
   "language": "python",
   "name": "python3"
  },
  "language_info": {
   "codemirror_mode": {
    "name": "ipython",
    "version": 3
   },
   "file_extension": ".py",
   "mimetype": "text/x-python",
   "name": "python",
   "nbconvert_exporter": "python",
   "pygments_lexer": "ipython3",
   "version": "3.5.2"
  }
 },
 "nbformat": 4,
 "nbformat_minor": 2
}
