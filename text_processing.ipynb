{
 "cells": [
  {
   "cell_type": "code",
   "execution_count": 8,
   "metadata": {
    "collapsed": true
   },
   "outputs": [],
   "source": [
    "# import the necessary packages\n",
    "import pandas as pd\n",
    "import pickle\n",
    "import datetime\n",
    "from dateutil import parser\n",
    "import re"
   ]
  },
  {
   "cell_type": "code",
   "execution_count": 9,
   "metadata": {
    "collapsed": false
   },
   "outputs": [],
   "source": [
    "data = pd.read_pickle('pickled_data.p')\n",
    "\n",
    "text_raw = [t for t in data['description']]\n",
    "\n",
    "#to lowercase\n",
    "text_lower = [s.lower() for s in text_raw]\n",
    "\n",
    "#remove any of below characters and replace with space - excesses will be removed later\n",
    "text_lower = [re.sub('[#!?*\";,())]',' ',s) for s in text_lower]\n",
    "\n",
    "#remove text artifacts\n",
    "text_lower = [re.sub('website_redacted',' ',s) for s in text_lower]\n",
    "text_lower = [re.sub('\\xa0',' ',s) for s in text_lower]\n",
    "text_lower = [re.sub('\\r','',s) for s in text_lower]\n",
    "text_lower = [re.sub('\\t','',s) for s in text_lower]\n",
    "text_lower = [re.sub('_',' ',s) for s in text_lower]\n",
    "\n",
    "# remove numbers of 3 or more digits as long as they are not preceded by a $\n",
    "# text_lower = [re.sub('(?<!([$]|\\d))\\d{3,}',' ',s) for s in text_lower]\n",
    "\n",
    "#remove $ only if it does not precede a number then remove all numbers\n",
    "text_lower = [re.sub('([$](?!\\d))',' ',s) for s in text_lower]\n",
    "text_lower = [re.sub('\\d{3,}',' ',s) for s in text_lower]\n",
    "text_lower = [re.sub('.00',' ',s) for s in text_lower]\n",
    "\n",
    "#remove below characters only if they are not preceded by a number\n",
    "text_lower = [re.sub('((?<!\\d)[.:-])',' ',s) for s in text_lower]\n",
    "\n",
    "#insert spaces between letters and numbers where \n",
    "text_lower = [re.sub(r'((?<=[a-z])\\d)',r' \\1',s) for s in text_lower]\n",
    "text_lower = [re.sub(r'(\\d(?=[a-z]))',r'\\1 ',s) for s in text_lower]\n",
    "\n",
    "#remove all html tags\n",
    "text_lower = [re.sub('(<.*?>)',' ',s) for s in text_lower]\n",
    "\n",
    "#replace ampersand with and\n",
    "text_lower = [re.sub('[&]',' and ',s) for s in text_lower]\n",
    "\n",
    "#replace w/ with \"with\"\n",
    "text_lower = [re.sub('w/',' with ',s) for s in text_lower]\n",
    "\n",
    "#replace / symbols with space\n",
    "text_lower = [re.sub('/',' ',s) for s in text_lower]\n",
    "\n",
    "#replace excess spaces\n",
    "text_lower = [re.sub(' +',' ',s).strip() for s in text_lower]\n",
    "\n",
    "#adjust important abbreviations\n",
    "text_lower = [re.sub(' br ',' bedroom ',s) for s in text_lower]\n",
    "text_lower = [re.sub('sq ft','square feet',s) for s in text_lower]\n",
    "text_lower = [re.sub(' ss ',' stainless steel',s) for s in text_lower]\n",
    "text_lower = [re.sub(' s s ',' staineless steel ',s) for s in text_lower]\n",
    "\n",
    "\n",
    "#remove trailing \"<a\"\n",
    "text_cleaned = [re.sub('<a','',s).strip() for s in text_lower]\n"
   ]
  },
  {
   "cell_type": "code",
   "execution_count": 10,
   "metadata": {
    "collapsed": false
   },
   "outputs": [],
   "source": [
    "data['cleantext'] = text_cleaned\n",
    "data.drop('description',axis=1)\n",
    "data.to_pickle('data_clean_text.p')"
   ]
  }
 ],
 "metadata": {
  "kernelspec": {
   "display_name": "Python 3",
   "language": "python",
   "name": "python3"
  },
  "language_info": {
   "codemirror_mode": {
    "name": "ipython",
    "version": 3
   },
   "file_extension": ".py",
   "mimetype": "text/x-python",
   "name": "python",
   "nbconvert_exporter": "python",
   "pygments_lexer": "ipython3",
   "version": "3.6.0"
  }
 },
 "nbformat": 4,
 "nbformat_minor": 2
}
