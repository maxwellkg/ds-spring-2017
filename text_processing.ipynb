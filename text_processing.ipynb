{
 "cells": [
  {
   "cell_type": "code",
   "execution_count": 1,
   "metadata": {
    "collapsed": true
   },
   "outputs": [],
   "source": [
    "# import the necessary packages\n",
    "import pandas as pd\n",
    "import pickle\n",
    "import datetime\n",
    "from dateutil import parser\n",
    "import re"
   ]
  },
  {
   "cell_type": "code",
   "execution_count": 3,
   "metadata": {
    "collapsed": false
   },
   "outputs": [],
   "source": [
    "data = pd.read_pickle('pickled_data.p')\n",
    "\n",
    "text_raw = [t for t in data['description']]\n",
    "\n",
    "#to lowercase\n",
    "text_lower = [s.lower() for s in text_raw]\n",
    "\n",
    "#remove any of below characters and replace with space - excesses will be removed later\n",
    "text_lower = [re.sub('[#!?*\";,())]',' ',s) for s in text_lower]\n",
    "\n",
    "#remove text artifacts\n",
    "text_lower = [re.sub('website_redacted',' ',s) for s in text_lower]\n",
    "text_lower = [re.sub('\\xa0',' ',s) for s in text_lower]\n",
    "text_lower = [re.sub('\\r','',s) for s in text_lower]\n",
    "text_lower = [re.sub('\\t','',s) for s in text_lower]\n",
    "text_lower = [re.sub('_',' ',s) for s in text_lower]\n",
    "\n",
    "# remove numbers of 3 or more digits as long as they are not preceded by a $\n",
    "# text_lower = [re.sub('(?<!([$]|\\d))\\d{3,}',' ',s) for s in text_lower]\n",
    "\n",
    "#remove $ only if it does not precede a number then remove all numbers\n",
    "text_lower = [re.sub('([$](?!\\d))',' ',s) for s in text_lower]\n",
    "text_lower = [re.sub('\\d{3,}',' ',s) for s in text_lower]\n",
    "text_lower = [re.sub('.00',' ',s) for s in text_lower]\n",
    "\n",
    "#remove below characters only if they are not preceded by a number\n",
    "text_lower = [re.sub('((?<!\\d)[.:-])',' ',s) for s in text_lower]\n",
    "\n",
    "#insert spaces between letters and numbers where \n",
    "text_lower = [re.sub(r'((?<=[a-z])\\d)',r' \\1',s) for s in text_lower]\n",
    "text_lower = [re.sub(r'(\\d(?=[a-z]))',r'\\1 ',s) for s in text_lower]\n",
    "\n",
    "#remove all html tags\n",
    "text_lower = [re.sub('(<.*?>)',' ',s) for s in text_lower]\n",
    "\n",
    "#replace ampersand with and\n",
    "text_lower = [re.sub('[&]',' and ',s) for s in text_lower]\n",
    "\n",
    "#replace w/ with \"with\"\n",
    "text_lower = [re.sub('w/',' with ',s) for s in text_lower]\n",
    "\n",
    "#replace / symbols with space\n",
    "text_lower = [re.sub('/',' ',s) for s in text_lower]\n",
    "\n",
    "#replace excess spaces\n",
    "text_lower = [re.sub(' +',' ',s).strip() for s in text_lower]\n",
    "\n",
    "#adjust important abbreviations\n",
    "text_lower = [re.sub(' br ',' bedroom ',s) for s in text_lower]\n",
    "text_lower = [re.sub('sq ft','square feet',s) for s in text_lower]\n",
    "text_lower = [re.sub(' ss ',' stainless steel',s) for s in text_lower]\n",
    "text_lower = [re.sub(' s s ',' staineless steel ',s) for s in text_lower]\n",
    "\n",
    "\n",
    "#remove trailing \"<a\"\n",
    "text_cleaned = [re.sub('<a','',s).strip() for s in text_lower]\n"
   ]
  },
  {
   "cell_type": "code",
   "execution_count": 4,
   "metadata": {
    "collapsed": false
   },
   "outputs": [
    {
     "name": "stdout",
     "output_type": "stream",
     "text": [
      "done\n"
     ]
    }
   ],
   "source": [
    "data['cleantext'] = text_cleaned\n",
    "data.drop('description',axis=1)\n",
    "data.to_pickle('data_clean_text.p')"
   ]
  },
  {
   "cell_type": "code",
   "execution_count": null,
   "metadata": {
    "collapsed": false,
    "scrolled": true
   },
   "outputs": [],
   "source": [
    "X = data.drop(['bathrooms', 'bedrooms', 'building_id', 'created', 'description',\n",
    "       'street_address', 'features', 'interest_level', 'latitude',\n",
    "       'listing_id', 'longitude', 'manager_id', 'photos','neighborhood','display_address'],axis=1)\n",
    "Y = data['interest_level'].copy()"
   ]
  },
  {
   "cell_type": "code",
   "execution_count": null,
   "metadata": {
    "collapsed": false
   },
   "outputs": [],
   "source": [
    "from sklearn.feature_extraction.text import CountVectorizer\n",
    "from sklearn.feature_extraction.text import TfidfVectorizer\n",
    "from sklearn import metrics\n",
    "from sklearn.model_selection import train_test_split\n",
    "from sklearn.linear_model import LogisticRegression\n",
    "from sklearn.naive_bayes import BernoulliNB\n",
    "from sklearn.feature_selection import SelectKBest\n",
    "from sklearn.feature_extraction import DictVectorizer\n",
    "import numpy as np\n",
    "from scipy.sparse import coo_matrix, hstack"
   ]
  },
  {
   "cell_type": "code",
   "execution_count": null,
   "metadata": {
    "collapsed": false
   },
   "outputs": [],
   "source": [
    "binary_vectorizer = TfidfVectorizer(ngram_range=(1,2),stop_words='english')\n",
    "binary_vectorizer.fit(X['cleantext'])"
   ]
  },
  {
   "cell_type": "code",
   "execution_count": null,
   "metadata": {
    "collapsed": false
   },
   "outputs": [],
   "source": [
    "X_train_vect = binary_vectorizer.transform(X_train['cleantext'])\n",
    "X_test_vect = binary_vectorizer.transform(X_test['cleantext'])"
   ]
  },
  {
   "cell_type": "code",
   "execution_count": null,
   "metadata": {
    "collapsed": false
   },
   "outputs": [],
   "source": [
    "X_train_bin = X_train.drop(['cleantext'],axis=1)\n",
    "data_coo = coo_matrix(X_train_bin.values,dtype=np.float64)\n",
    "X_train_data = hstack([data_coo,X_train_vect])"
   ]
  },
  {
   "cell_type": "code",
   "execution_count": null,
   "metadata": {
    "collapsed": true
   },
   "outputs": [],
   "source": [
    "X_test_bin = X_test.drop(['cleantext'],axis=1)\n",
    "data_coo = coo_matrix(X_test_bin.values,dtype=np.float64)\n",
    "X_test_data = hstack([data_coo,X_test_vect])\n"
   ]
  },
  {
   "cell_type": "code",
   "execution_count": null,
   "metadata": {
    "collapsed": false
   },
   "outputs": [],
   "source": [
    "pickle.to_pickle()"
   ]
  }
 ],
 "metadata": {
  "kernelspec": {
   "display_name": "Python 3",
   "language": "python",
   "name": "python3"
  },
  "language_info": {
   "codemirror_mode": {
    "name": "ipython",
    "version": 3
   },
   "file_extension": ".py",
   "mimetype": "text/x-python",
   "name": "python",
   "nbconvert_exporter": "python",
   "pygments_lexer": "ipython3",
   "version": "3.6.0"
  }
 },
 "nbformat": 4,
 "nbformat_minor": 2
}
