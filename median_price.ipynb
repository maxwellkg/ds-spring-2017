{
 "cells": [
  {
   "cell_type": "code",
   "execution_count": 1,
   "metadata": {
    "collapsed": false
   },
   "outputs": [],
   "source": [
    "import numpy as np\n",
    "import pandas as pd\n",
    "import requests\n",
    "from io import BytesIO\n",
    "from PIL import Image"
   ]
  },
  {
   "cell_type": "code",
   "execution_count": 2,
   "metadata": {
    "collapsed": true
   },
   "outputs": [],
   "source": [
    "data = pd.read_pickle('data_clean_text.p')\n",
    "data = data.drop('median_price',axis=1)"
   ]
  },
  {
   "cell_type": "code",
   "execution_count": 19,
   "metadata": {
    "collapsed": false
   },
   "outputs": [],
   "source": [
    "#calculate neighborhood and bedroom median price and merge back into data set\n",
    "nbr_med_pr = data.groupby(['neighborhood','bedrooms'])['price'].median()\n",
    "neighbors = []\n",
    "beds = []\n",
    "for item in nbr_med_pr.index:\n",
    "    neighbors.append(item[0])\n",
    "    beds.append(item[1])\n",
    "med_dict = {'neighborhood':neighbors,'bedrooms':beds,'median_price':nbr_med_pr.values}\n",
    "df = pd.DataFrame(med_dict)\n",
    "new_data = data.merge(df,on=['neighborhood','bedrooms'])"
   ]
  },
  {
   "cell_type": "code",
   "execution_count": 20,
   "metadata": {
    "collapsed": true
   },
   "outputs": [],
   "source": [
    "#calculate price difference to median\n",
    "new_data['price_diff']=new_data['price']-new_data['median_price']\n",
    "new_data = new_data.drop('median_price',axis=1)"
   ]
  },
  {
   "cell_type": "code",
   "execution_count": 21,
   "metadata": {
    "collapsed": true
   },
   "outputs": [],
   "source": [
    "new_data.to_pickle('data_clean_text.p')"
   ]
  }
 ],
 "metadata": {
  "kernelspec": {
   "display_name": "Python 3",
   "language": "python",
   "name": "python3"
  },
  "language_info": {
   "codemirror_mode": {
    "name": "ipython",
    "version": 3
   },
   "file_extension": ".py",
   "mimetype": "text/x-python",
   "name": "python",
   "nbconvert_exporter": "python",
   "pygments_lexer": "ipython3",
   "version": "3.5.2"
  }
 },
 "nbformat": 4,
 "nbformat_minor": 2
}
